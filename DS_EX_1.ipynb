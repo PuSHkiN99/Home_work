{
 "cells": [
  {
   "cell_type": "markdown",
   "id": "813cf554",
   "metadata": {},
   "source": [
    "# Домашнее задание #1"
   ]
  },
  {
   "cell_type": "code",
   "execution_count": 141,
   "id": "d3e9f425",
   "metadata": {},
   "outputs": [],
   "source": [
    "import numpy as np"
   ]
  },
  {
   "cell_type": "markdown",
   "id": "6848d9fa",
   "metadata": {},
   "source": [
    "Задача №1\n",
    "\n",
    "Считайте (через input) 2 числа:\n",
    "n - размер Numpy вектора;\n",
    "x - координата элемента вектора, который должен быть равен 1. Остальные должны быть равны 0.\n",
    "Создайте вектор размера n, в котором все элементы равны 0, кроме элемента с номером x - он равен 1."
   ]
  },
  {
   "cell_type": "code",
   "execution_count": 144,
   "id": "a773cc60",
   "metadata": {},
   "outputs": [
    {
     "name": "stdout",
     "output_type": "stream",
     "text": [
      "Введите размер матрицы через пробел\n",
      "5 2\n"
     ]
    }
   ],
   "source": [
    " print(\"Введите размер матрицы через пробел\")\n",
    "n, x = map(int, input().split())"
   ]
  },
  {
   "cell_type": "code",
   "execution_count": 146,
   "id": "a436ab5b",
   "metadata": {},
   "outputs": [
    {
     "name": "stdout",
     "output_type": "stream",
     "text": [
      "[0. 0. 1. 0. 0.]\n"
     ]
    }
   ],
   "source": [
    "vec = np.zeros(n)\n",
    "vec[x] = 1\n",
    "print(vec)"
   ]
  },
  {
   "cell_type": "markdown",
   "id": "2cb4c1ea",
   "metadata": {},
   "source": [
    "Задача №2\n",
    "\n",
    "Считайте 3 числа: n, m, s. Создайте Numpy вектор, состоящий из чисел от n до m с шагом s."
   ]
  },
  {
   "cell_type": "code",
   "execution_count": null,
   "id": "2b996fac",
   "metadata": {},
   "outputs": [],
   "source": [
    "print(\"Введите три числа через пробел\")"
   ]
  },
  {
   "cell_type": "code",
   "execution_count": 77,
   "id": "4bd5b98e",
   "metadata": {},
   "outputs": [
    {
     "name": "stdout",
     "output_type": "stream",
     "text": [
      "Введите три числа через пробел\n",
      "1 9 1\n",
      "[1 2 3 4 5 6 7 8]\n"
     ]
    }
   ],
   "source": [
    "n, m, s = map(int, input().split())\n",
    "vec1=np.arange(n, m, s)\n",
    "print(vec1)"
   ]
  },
  {
   "cell_type": "markdown",
   "id": "7d664dfe",
   "metadata": {},
   "source": [
    "Задача №3\n",
    "\n",
    "Создайте матрицу 3х3 со значениями от 0 до 8. Значения нужно сгенерировать."
   ]
  },
  {
   "cell_type": "code",
   "execution_count": 78,
   "id": "518ac371",
   "metadata": {},
   "outputs": [
    {
     "name": "stdout",
     "output_type": "stream",
     "text": [
      "[[3 5 3]\n",
      " [3 2 4]\n",
      " [7 4 2]]\n"
     ]
    }
   ],
   "source": [
    "vec3 = np.random.randint(0, 8, size=(3,3))\n",
    "print(vec3)"
   ]
  },
  {
   "cell_type": "markdown",
   "id": "d536261b",
   "metadata": {},
   "source": [
    "Задача №4\n",
    "\n",
    "1. Создайте матрицу 4х4 со случайными значениями.\n",
    "2. Найдите максимальное значение первой строки, минимальное - второй, среднее - третьей, сумму - четвертой."
   ]
  },
  {
   "cell_type": "code",
   "execution_count": 101,
   "id": "b5c91d7d",
   "metadata": {},
   "outputs": [
    {
     "name": "stdout",
     "output_type": "stream",
     "text": [
      "[[0.74734141 0.70613888 0.44923095 0.57520703]\n",
      " [0.45550883 0.19263227 0.26366099 0.73155776]\n",
      " [0.24073722 0.8807001  0.40893628 0.72837094]\n",
      " [0.43630806 0.44637108 0.32092276 0.91289293]]\n",
      "max 0.7473414057937595\n",
      "min 0.19263227337981026\n",
      "mean 0.5646861376083985\n",
      "sum 2.1164948377390536\n"
     ]
    }
   ],
   "source": [
    "vec3 = np.random.rand(4,4)\n",
    "print(vec3)\n",
    "print(f'max {np.max(vec3[0, :])}')\n",
    "print(f'min {np.min(vec3[1, :])}')\n",
    "print(f'mean {np.mean(vec3[2, :])}')\n",
    "print(f'sum {np.sum(vec3[3, :])}')"
   ]
  },
  {
   "cell_type": "markdown",
   "id": "8d298714",
   "metadata": {},
   "source": [
    "Задача №5\n",
    "\n",
    "Создайте диагональную матрицу 5х5, все ненулевые элементы равны 5."
   ]
  },
  {
   "cell_type": "code",
   "execution_count": 113,
   "id": "dfe45c5e",
   "metadata": {},
   "outputs": [
    {
     "name": "stdout",
     "output_type": "stream",
     "text": [
      "[[5. 0. 0. 0. 0.]\n",
      " [0. 5. 0. 0. 0.]\n",
      " [0. 0. 5. 0. 0.]\n",
      " [0. 0. 0. 5. 0.]\n",
      " [0. 0. 0. 0. 5.]]\n"
     ]
    }
   ],
   "source": [
    "vec4=np.eye(5)\n",
    "print(vec4*5)"
   ]
  },
  {
   "cell_type": "markdown",
   "id": "7bb8a15c",
   "metadata": {},
   "source": [
    "Задача №6\n",
    "\n",
    "Создайте Numpy массив случайных чисел размерности 6х6х6 и найдите максимальное значение среди всех элементов."
   ]
  },
  {
   "cell_type": "code",
   "execution_count": 149,
   "id": "5f9467ad",
   "metadata": {},
   "outputs": [
    {
     "name": "stdout",
     "output_type": "stream",
     "text": [
      "0.991790357785763\n"
     ]
    }
   ],
   "source": [
    "vec5=np.random.rand(6,6,6)\n",
    "print(np.max(vec5))"
   ]
  },
  {
   "cell_type": "markdown",
   "id": "8bcef2c0",
   "metadata": {},
   "source": [
    "Задача №7\n",
    "\n",
    "Напишите функцию, которая принимает на вход 2 Numpy матрицы, проверяет, можно ли их перемножить, и если можно - то перемножает и возвращает транспонированную результирующую матрицу."
   ]
  },
  {
   "cell_type": "code",
   "execution_count": 151,
   "id": "31c1a1e7",
   "metadata": {},
   "outputs": [],
   "source": [
    "def matrix_multiplication(A, B):\n",
    "    if A.shape[1] == B.shape[0]:\n",
    "        return np.transpose(A @ B)   \n",
    "    return \"Невозможно перемножать\""
   ]
  },
  {
   "attachments": {},
   "cell_type": "markdown",
   "id": "c61de48b",
   "metadata": {},
   "source": [
    "Задача №8\n",
    "\n",
    "Дана функция:\n",
    "\n",
    "Найдите минимум данной функции, завершив вычисления при погрешности\n",
    ", выбрав в качестве начального приблежения точку (0, 0) и коэффициент шага\n"
   ]
  },
  {
   "cell_type": "code",
   "execution_count": 153,
   "id": "9ab0bece",
   "metadata": {},
   "outputs": [],
   "source": [
    "def func(x, y):\n",
    "    return x*x + 2.0 * y*y + np.exp(x + y)\n",
    "\n",
    "def f_x(func, x, y, eps=0.001):\n",
    "    return (func(x+eps, y) - func(x, y)) / eps\n",
    "\n",
    "def f_y(func, x, y, eps=0.001):\n",
    "    return (func(x, y+eps) - func(x, y)) / eps"
   ]
  },
  {
   "cell_type": "code",
   "execution_count": 154,
   "id": "a7898742",
   "metadata": {},
   "outputs": [],
   "source": [
    "EPS = 0.001\n",
    "INIT = np.array([1.0, -1.75])\n",
    "LEARN_RATE = 0.05\n",
    "ITER = 10000\n",
    "\n",
    "X_prev = INIT\n",
    "delta = 1\n",
    "for i in range(ITER):\n",
    "    if delta > EPS:\n",
    "        fxx = f_x(func, X_prev[0], X_prev[1], eps=0.001)\n",
    "        fyy = f_y(func, X_prev[0], X_prev[1], eps=0.001)\n",
    "        grad = np.array([fxx, fyy])\n",
    "\n",
    "        X_next = X_prev - LEARN_RATE * grad    \n",
    "\n",
    "        delta = np.sqrt(np.sum(grad*grad))\n",
    "        \n",
    "        X_prev = X_next\n",
    "        \n",
    "    else:\n",
    "        break"
   ]
  },
  {
   "cell_type": "code",
   "execution_count": 155,
   "id": "39675aee",
   "metadata": {},
   "outputs": [
    {
     "name": "stdout",
     "output_type": "stream",
     "text": [
      "Значение функции 0.7723\n",
      "x_min -0.3128\n",
      "y_min -0.1569\n",
      "Производная в x_min 0.0008\n",
      "Производная в y_min -0.0002\n",
      "Градиент 0.000963264\n"
     ]
    }
   ],
   "source": [
    "print(f\"Значение функции {func(X_next[0], X_next[1]).round(4)}\")\n",
    "print(f\"x_min {X_next[0].round(4)}\")\n",
    "print(f\"y_min {X_next[1].round(4)}\")\n",
    "print(f\"Производная в x_min {f_x(func, X_next[0], X_next[1], eps=0.001).round(4)}\")\n",
    "print(f\"Производная в y_min {f_y(func, X_next[0], X_next[1], eps=0.001).round(4)}\")\n",
    "print(f\"Градиент {np.sqrt((grad**2).sum()).round(9)}\")"
   ]
  },
  {
   "cell_type": "code",
   "execution_count": null,
   "id": "03aff758",
   "metadata": {},
   "outputs": [],
   "source": []
  }
 ],
 "metadata": {
  "kernelspec": {
   "display_name": "Python 3 (ipykernel)",
   "language": "python",
   "name": "python3"
  },
  "language_info": {
   "codemirror_mode": {
    "name": "ipython",
    "version": 3
   },
   "file_extension": ".py",
   "mimetype": "text/x-python",
   "name": "python",
   "nbconvert_exporter": "python",
   "pygments_lexer": "ipython3",
   "version": "3.8.12"
  }
 },
 "nbformat": 4,
 "nbformat_minor": 5
}
