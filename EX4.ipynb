{
 "cells": [
  {
   "cell_type": "markdown",
   "id": "2c440848",
   "metadata": {},
   "source": [
    "# Самостоятельное задание #4"
   ]
  },
  {
   "cell_type": "markdown",
   "id": "df48bd69",
   "metadata": {},
   "source": [
    "Дана строка: Lambdadambda\n",
    "\n",
    "Вывести третий символ этой строки."
   ]
  },
  {
   "cell_type": "code",
   "execution_count": 50,
   "id": "0e738e59",
   "metadata": {
    "scrolled": false
   },
   "outputs": [
    {
     "name": "stdout",
     "output_type": "stream",
     "text": [
      "m\n"
     ]
    }
   ],
   "source": [
    "row = \"Lambdadambda\"\n",
    "print(row[2])"
   ]
  },
  {
   "cell_type": "markdown",
   "id": "2c9ded06",
   "metadata": {},
   "source": [
    "Вывести предпоследний символ этой строки."
   ]
  },
  {
   "cell_type": "code",
   "execution_count": 44,
   "id": "270422c0",
   "metadata": {},
   "outputs": [
    {
     "name": "stdout",
     "output_type": "stream",
     "text": [
      "d\n"
     ]
    }
   ],
   "source": [
    "print(row[len(row)-2])"
   ]
  },
  {
   "cell_type": "markdown",
   "id": "8e35003a",
   "metadata": {},
   "source": [
    "Вывести первые пять символов этой строки."
   ]
  },
  {
   "cell_type": "code",
   "execution_count": 45,
   "id": "283a0af5",
   "metadata": {},
   "outputs": [
    {
     "name": "stdout",
     "output_type": "stream",
     "text": [
      "Lambd\n"
     ]
    }
   ],
   "source": [
    "print(row[:5])"
   ]
  },
  {
   "cell_type": "markdown",
   "id": "f2bc0713",
   "metadata": {},
   "source": [
    "Вывести строку, кроме последних двух символов."
   ]
  },
  {
   "cell_type": "code",
   "execution_count": 46,
   "id": "14813ed1",
   "metadata": {},
   "outputs": [
    {
     "name": "stdout",
     "output_type": "stream",
     "text": [
      "Lambdadamb\n"
     ]
    }
   ],
   "source": [
    "print(row[:len(row)-2])"
   ]
  },
  {
   "cell_type": "markdown",
   "id": "211c5968",
   "metadata": {},
   "source": [
    "Вывести все символы с четными индексами (считайте, что 0 - четный индекс)."
   ]
  },
  {
   "cell_type": "code",
   "execution_count": 57,
   "id": "10b769ac",
   "metadata": {},
   "outputs": [
    {
     "name": "stdout",
     "output_type": "stream",
     "text": [
      "L m d d m d "
     ]
    }
   ],
   "source": [
    "for i in range (0, len(row), 2):\n",
    "    print(row[i], end=' ')"
   ]
  },
  {
   "cell_type": "markdown",
   "id": "26a3aa93",
   "metadata": {},
   "source": [
    "Вывести все символы с нечетными индексами."
   ]
  },
  {
   "cell_type": "code",
   "execution_count": 58,
   "id": "bc4658f3",
   "metadata": {},
   "outputs": [
    {
     "name": "stdout",
     "output_type": "stream",
     "text": [
      "a b a a b a "
     ]
    }
   ],
   "source": [
    "for g in range (1, len(row), 2):\n",
    "    print(row[g], end=' ')"
   ]
  },
  {
   "cell_type": "markdown",
   "id": "9550877d",
   "metadata": {},
   "source": [
    "Вывести все символы в обратном порядке."
   ]
  },
  {
   "cell_type": "code",
   "execution_count": 49,
   "id": "47730b37",
   "metadata": {},
   "outputs": [
    {
     "name": "stdout",
     "output_type": "stream",
     "text": [
      "adbmadadbmaL"
     ]
    }
   ],
   "source": [
    "for j in range (0, len(row)):\n",
    "    print(row[len(row)-j-1], end='')"
   ]
  },
  {
   "cell_type": "markdown",
   "id": "c6223221",
   "metadata": {},
   "source": [
    "Вывести все символы строки через один в обратном порядке, начиная с последнего."
   ]
  },
  {
   "cell_type": "code",
   "execution_count": 54,
   "id": "c888a478",
   "metadata": {},
   "outputs": [
    {
     "name": "stdout",
     "output_type": "stream",
     "text": [
      "a b a a b a "
     ]
    }
   ],
   "source": [
    "for k in range (0, len(row), 2):\n",
    "    print(row[len(row)-k-1], end=' ')"
   ]
  },
  {
   "cell_type": "markdown",
   "id": "b791c0f9",
   "metadata": {},
   "source": [
    "Вывести длину данной строки."
   ]
  },
  {
   "cell_type": "code",
   "execution_count": 56,
   "id": "544a78fe",
   "metadata": {},
   "outputs": [
    {
     "name": "stdout",
     "output_type": "stream",
     "text": [
      "12\n"
     ]
    }
   ],
   "source": [
    "print(len(row))"
   ]
  }
 ],
 "metadata": {
  "kernelspec": {
   "display_name": "Python 3 (ipykernel)",
   "language": "python",
   "name": "python3"
  },
  "language_info": {
   "codemirror_mode": {
    "name": "ipython",
    "version": 3
   },
   "file_extension": ".py",
   "mimetype": "text/x-python",
   "name": "python",
   "nbconvert_exporter": "python",
   "pygments_lexer": "ipython3",
   "version": "3.8.12"
  }
 },
 "nbformat": 4,
 "nbformat_minor": 5
}
