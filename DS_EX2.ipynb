{
 "cells": [
  {
   "cell_type": "markdown",
   "id": "878effaf",
   "metadata": {},
   "source": [
    "# Домашнее задание. Вероятности"
   ]
  },
  {
   "cell_type": "markdown",
   "id": "07885e12",
   "metadata": {},
   "source": [
    "1. Один самолет вылетел из Москвы, и должен совершить посадку в 5 городах. Необходимо узнать, количество городов, в котрых может приземлиться в первый, второй, третий город"
   ]
  },
  {
   "cell_type": "code",
   "execution_count": 38,
   "id": "376efb38",
   "metadata": {},
   "outputs": [],
   "source": [
    "def sochetanya(n,p):\n",
    "    S=1\n",
    "    for i in range(0, p):\n",
    "        S=S*n\n",
    "        n=n-1\n",
    "    return S "
   ]
  },
  {
   "cell_type": "code",
   "execution_count": 43,
   "id": "6afb419b",
   "metadata": {},
   "outputs": [
    {
     "name": "stdout",
     "output_type": "stream",
     "text": [
      "60\n"
     ]
    }
   ],
   "source": [
    "print(sochetanya(5,3))"
   ]
  },
  {
   "cell_type": "markdown",
   "id": "2e6d8421",
   "metadata": {},
   "source": [
    "2. Осьминог Пауль 16 раз пробовал угадать победителя футбольного матча. 14 раз он угадал правильно, 2 раза ошибся. Проверьте гипотезу H0: Пауль выбирает победителя футбольного матча случайно. Сделайте вывод. (сложная задача)"
   ]
  },
  {
   "cell_type": "code",
   "execution_count": 19,
   "id": "efae86f4",
   "metadata": {},
   "outputs": [
    {
     "name": "stdout",
     "output_type": "stream",
     "text": [
      "Под Н0 будет принято, что осьминог дал отвены случайно, тогда можно рассчитать вероятность этого по формуле Бернулли\n",
      "Количество попыток: 16\n",
      "\"Случайная\" вероятность в каждой поппытке: 0.5\n",
      "Количество успешных попыток: 14\n",
      "Вероятность по формуле Бернулли:  0.0036621093750840144\n",
      "Так как вероятность Н0 очень мала, то Н0 не подтверждается и значить осьминог дал ответы не случайно.\n"
     ]
    }
   ],
   "source": [
    "import math\n",
    "n = 16\n",
    "p = 0.5\n",
    "k = 14\n",
    "print('Под Н0 будет принято, что осьминог дал отвены случайно, тогда можно рассчитать вероятность этого по формуле Бернулли')\n",
    "print('Количество попыток:', n)\n",
    "print('\"Случайная\" вероятность в каждой поппытке:', p)\n",
    "print('Количество успешных попыток:', k)\n",
    "c = math.factorial(n)/(math.factorial(k)-math.factorial(n-k))\n",
    "b = c * p**k * (1-p)**(n-k) \n",
    "print('Вероятность по формуле Бернулли: ', b) \n",
    "print('Так как вероятность Н0 очень мала, то Н0 не подтверждается и значить осьминог дал ответы не случайно.')"
   ]
  }
 ],
 "metadata": {
  "kernelspec": {
   "display_name": "Python 3 (ipykernel)",
   "language": "python",
   "name": "python3"
  },
  "language_info": {
   "codemirror_mode": {
    "name": "ipython",
    "version": 3
   },
   "file_extension": ".py",
   "mimetype": "text/x-python",
   "name": "python",
   "nbconvert_exporter": "python",
   "pygments_lexer": "ipython3",
   "version": "3.8.12"
  }
 },
 "nbformat": 4,
 "nbformat_minor": 5
}
