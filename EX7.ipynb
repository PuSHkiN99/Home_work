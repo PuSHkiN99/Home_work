{
 "cells": [
  {
   "cell_type": "markdown",
   "id": "07c969f2",
   "metadata": {},
   "source": [
    "# Задание 1"
   ]
  },
  {
   "cell_type": "markdown",
   "id": "632d837a",
   "metadata": {},
   "source": [
    "Допишите функцию, которая принимает список чисел и, с помощью множеств, определяет количество различных чисел внутри списка."
   ]
  },
  {
   "cell_type": "code",
   "execution_count": 5,
   "id": "54ef8b85",
   "metadata": {},
   "outputs": [],
   "source": [
    "def EX(list1):\n",
    "    return len(set(list1))"
   ]
  },
  {
   "cell_type": "code",
   "execution_count": 6,
   "id": "ea246531",
   "metadata": {},
   "outputs": [
    {
     "data": {
      "text/plain": [
       "3"
      ]
     },
     "execution_count": 6,
     "metadata": {},
     "output_type": "execute_result"
    }
   ],
   "source": [
    "a=[1, 32, 6,  1, 1, 1]\n",
    "EX(a)"
   ]
  },
  {
   "cell_type": "markdown",
   "id": "7913b11c",
   "metadata": {},
   "source": [
    "# Задание 2"
   ]
  },
  {
   "cell_type": "markdown",
   "id": "32ac0ea5",
   "metadata": {},
   "source": [
    "Допишите функцию, которая принимает несколько списков чисел и, с помощью множеств, определяет количество общих чисел из первого и второго списка."
   ]
  },
  {
   "cell_type": "code",
   "execution_count": 3,
   "id": "1c6ef947",
   "metadata": {},
   "outputs": [],
   "source": [
    "def EX2(list1, list2):\n",
    "     return len(set(list1).intersection(set(list2)))"
   ]
  },
  {
   "cell_type": "code",
   "execution_count": 4,
   "id": "dced8b9b",
   "metadata": {},
   "outputs": [
    {
     "data": {
      "text/plain": [
       "3"
      ]
     },
     "execution_count": 4,
     "metadata": {},
     "output_type": "execute_result"
    }
   ],
   "source": [
    "a=[1, 32, 6,  1, 1, 1, 0]\n",
    "b=[1, 5, 0, 6]\n",
    "EX2(a,b)"
   ]
  }
 ],
 "metadata": {
  "kernelspec": {
   "display_name": "Python 3 (ipykernel)",
   "language": "python",
   "name": "python3"
  },
  "language_info": {
   "codemirror_mode": {
    "name": "ipython",
    "version": 3
   },
   "file_extension": ".py",
   "mimetype": "text/x-python",
   "name": "python",
   "nbconvert_exporter": "python",
   "pygments_lexer": "ipython3",
   "version": "3.8.12"
  }
 },
 "nbformat": 4,
 "nbformat_minor": 5
}
