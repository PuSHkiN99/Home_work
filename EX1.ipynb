{
 "cells": [
  {
   "cell_type": "markdown",
   "id": "35d94332",
   "metadata": {},
   "source": [
    "# Самостоятельная работа #1"
   ]
  },
  {
   "cell_type": "markdown",
   "id": "3d36d3a2",
   "metadata": {},
   "source": [
    "a = True\n",
    "\n",
    "b = False\n",
    "\n",
    "Решите:\n",
    "\n",
    "1. and b\n",
    "\n",
    "2. and b) or b\n",
    "\n",
    "3. and b) or not (a and b)\n",
    "\n",
    "4. nd b or not (a or b) or b\n",
    "\n",
    "5. nd b or not a and (a or b or a) or not (a or b)\n",
    "\n",
    "6. < 2\n",
    "\n",
    "7.  0 | 1 >> 1\n",
    "\n",
    "8.  0 | 1 >> 0\n",
    "\n",
    "9. 01 & 0b111 ^ 0b111 | 0b010 Комментарий: \"0b101\" - запись числа \"5\" на языке Python в двоичном виде"
   ]
  },
  {
   "cell_type": "code",
   "execution_count": 522,
   "id": "a9527864",
   "metadata": {},
   "outputs": [
    {
     "name": "stdout",
     "output_type": "stream",
     "text": [
      "False\n",
      "False\n",
      "True\n",
      "False\n",
      "False\n",
      "4\n",
      "0\n",
      "1\n",
      "7\n"
     ]
    }
   ],
   "source": [
    "a = True \n",
    "b = False\n",
    "print(a and b)\n",
    "print((a and b) or b)\n",
    "print((a and b) or not (a and b))\n",
    "print(a and b or not (a or b or a) or not(a or b))\n",
    "print(b and b or not a and (a or b or a) or not (a or b))\n",
    "print(1<<2)\n",
    "print(1&0 | 1>>1)\n",
    "print(1&0 | 1>>0)\n",
    "print(0b101 & 0b111 | 0b010)"
   ]
  }
 ],
 "metadata": {
  "kernelspec": {
   "display_name": "Python 3 (ipykernel)",
   "language": "python",
   "name": "python3"
  },
  "language_info": {
   "codemirror_mode": {
    "name": "ipython",
    "version": 3
   },
   "file_extension": ".py",
   "mimetype": "text/x-python",
   "name": "python",
   "nbconvert_exporter": "python",
   "pygments_lexer": "ipython3",
   "version": "3.8.12"
  }
 },
 "nbformat": 4,
 "nbformat_minor": 5
}
