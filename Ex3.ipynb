{
 "cells": [
  {
   "cell_type": "markdown",
   "id": "b1288728",
   "metadata": {},
   "source": [
    "# Самостоятельное задание #3\n"
   ]
  },
  {
   "cell_type": "markdown",
   "id": "a1962536",
   "metadata": {},
   "source": [
    "Задание 1\n",
    "\n",
    "Допишите функцию, которая принимает массив из 10 чисел и возвращает их сумму."
   ]
  },
  {
   "cell_type": "code",
   "execution_count": 1,
   "id": "8ac319fc",
   "metadata": {},
   "outputs": [],
   "source": [
    "def SUM(a):\n",
    "    y = 0\n",
    "    for i in a:\n",
    "        y+= i\n",
    "    return y"
   ]
  },
  {
   "cell_type": "code",
   "execution_count": 2,
   "id": "49db18ec",
   "metadata": {},
   "outputs": [
    {
     "data": {
      "text/plain": [
       "56"
      ]
     },
     "execution_count": 2,
     "metadata": {},
     "output_type": "execute_result"
    }
   ],
   "source": [
    "a = [1, 2, 3, 4, 5, 6, 7, 8, 9, 11]\n",
    "SUM(a)"
   ]
  },
  {
   "cell_type": "markdown",
   "id": "db4bee69",
   "metadata": {},
   "source": [
    "Задание 2\n",
    "\n",
    "Допишите функцию, которая принимает массив чисел и возвращает количество чисел равных нулю."
   ]
  },
  {
   "cell_type": "code",
   "execution_count": 3,
   "id": "f259eaee",
   "metadata": {},
   "outputs": [],
   "source": [
    "def Z0(c):\n",
    "    n=0\n",
    "    for i in c:\n",
    "        if i==0: n+=1\n",
    "    return n"
   ]
  },
  {
   "cell_type": "code",
   "execution_count": 4,
   "id": "f5a87b23",
   "metadata": {},
   "outputs": [
    {
     "data": {
      "text/plain": [
       "3"
      ]
     },
     "execution_count": 4,
     "metadata": {},
     "output_type": "execute_result"
    }
   ],
   "source": [
    "a = [1, 2, 3, 0, 5, 6, 0, 8, 0, 11]\n",
    "Z0(a)"
   ]
  },
  {
   "cell_type": "markdown",
   "id": "3e07c0ce",
   "metadata": {},
   "source": [
    "Задание 3\n",
    "\n",
    "Напишите программу, в которой задается натуральное число n и выводится лестница из n ступенек, i-я ступенька должна состоять из чисел от 1 до i без пробелов."
   ]
  },
  {
   "cell_type": "code",
   "execution_count": 22,
   "id": "a7bb63f8",
   "metadata": {},
   "outputs": [
    {
     "name": "stdout",
     "output_type": "stream",
     "text": [
      "Введите количество ступенек 5\n",
      "\n",
      "1\n",
      "12\n",
      "123\n",
      "1234\n",
      "12345\n"
     ]
    }
   ],
   "source": [
    "n = int(input('Введите количество ступенек лестницы: '))\n",
    "print()\n",
    "for i in range(1, n + 1):\n",
    "    for j in range(1, i + 1):\n",
    "        print(j, end='')\n",
    "    print()"
   ]
  },
  {
   "cell_type": "markdown",
   "id": "468637b8",
   "metadata": {},
   "source": [
    "Задание 4\n",
    "\n",
    "Напишите программу, в которой задается натуральное число n и выводится пирамида из n ступенек, i-я ступень должна состоять из чисел от 1 до i и обратно без пробелов."
   ]
  },
  {
   "cell_type": "code",
   "execution_count": 23,
   "id": "0e91b200",
   "metadata": {},
   "outputs": [
    {
     "name": "stdout",
     "output_type": "stream",
     "text": [
      "Введите количество ступенек пирамиды: 5\n",
      "    1    \n",
      "   121   \n",
      "  12321  \n",
      " 1234321 \n",
      "123454321\n"
     ]
    }
   ],
   "source": [
    "n = int(input('Введите количество ступенек пирамиды: '))\n",
    "for i in range(1, n+1):\n",
    "    for j in range (1, n+1-i):\n",
    "        print(end=' ')\n",
    "    for f in range (n+1-i, (n+1)):\n",
    "        print(f-n+i,end='')\n",
    "    for k in range (n+1, n+i):\n",
    "        print(n-k+i,end='')\n",
    "    for g in range ( n+i, 2*n):\n",
    "        print(end=' ')\n",
    "    print()"
   ]
  },
  {
   "cell_type": "markdown",
   "id": "08b1586d",
   "metadata": {},
   "source": [
    "Задание 5\n",
    "\n",
    "Напишите программу, в которой задается натуральное число n и выводится ромб из n*2-1 ступенек, i-я ступень должна состоять из чисел от 1 до i и обратно без пробелов."
   ]
  },
  {
   "cell_type": "code",
   "execution_count": 24,
   "id": "4e68181b",
   "metadata": {},
   "outputs": [
    {
     "name": "stdout",
     "output_type": "stream",
     "text": [
      "Введите количество ступенек: 5\n",
      "    1\n",
      "   121\n",
      "  12321\n",
      " 1234321\n",
      "123454321\n",
      " 1234321\n",
      "  12321\n",
      "   121\n",
      "    1\n"
     ]
    }
   ],
   "source": [
    "n = int(input('Введите количество ступенек: '))\n",
    "for i in range(1, n+1):\n",
    "    for j in range (1, n+1-i):\n",
    "        print(end=' ')\n",
    "    for f in range (n+1-i, n+1):\n",
    "        print(f-n+i,end='')\n",
    "    for k in range (n+1, n+i):\n",
    "        print(n-k+i, end='')   \n",
    "    print()\n",
    "for i in range(2, n+1):\n",
    "    for j in range (1, i):\n",
    "        print(end=' ')\n",
    "    for f in range (i, (n+1)):\n",
    "        print(f+1-i, end='')\n",
    "    for k in range (n+1, 2*n-i+1):\n",
    "        print(2*n-k+1-i, end='')   \n",
    "    print()"
   ]
  }
 ],
 "metadata": {
  "kernelspec": {
   "display_name": "Python 3 (ipykernel)",
   "language": "python",
   "name": "python3"
  },
  "language_info": {
   "codemirror_mode": {
    "name": "ipython",
    "version": 3
   },
   "file_extension": ".py",
   "mimetype": "text/x-python",
   "name": "python",
   "nbconvert_exporter": "python",
   "pygments_lexer": "ipython3",
   "version": "3.8.12"
  }
 },
 "nbformat": 4,
 "nbformat_minor": 5
}
