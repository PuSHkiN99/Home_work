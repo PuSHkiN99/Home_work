{
 "cells": [
  {
   "cell_type": "markdown",
   "id": "8e07c6c6",
   "metadata": {},
   "source": [
    "# Задание 1"
   ]
  },
  {
   "cell_type": "markdown",
   "id": "c55931a9",
   "metadata": {},
   "source": [
    "Допишите функцию, которая принимает список, выбирает из него все элементы с четным индексом и возвращает их в виде списка."
   ]
  },
  {
   "cell_type": "code",
   "execution_count": 1,
   "id": "ec22a1d2",
   "metadata": {},
   "outputs": [],
   "source": [
    "def L2(list1):\n",
    "     return list1[::2]"
   ]
  },
  {
   "cell_type": "code",
   "execution_count": 2,
   "id": "cbbe7813",
   "metadata": {},
   "outputs": [
    {
     "data": {
      "text/plain": [
       "[1, 3, 6, 11, 0]"
      ]
     },
     "execution_count": 2,
     "metadata": {},
     "output_type": "execute_result"
    }
   ],
   "source": [
    "a = [1, 2, 3, 5, 6, 8, 11, 4, 0]\n",
    "L2(a)"
   ]
  },
  {
   "cell_type": "markdown",
   "id": "c4b22ad1",
   "metadata": {},
   "source": [
    "# Задание 2"
   ]
  },
  {
   "cell_type": "markdown",
   "id": "93c32eb4",
   "metadata": {},
   "source": [
    "Допишите функцию, которая принимает список, выбирает из него все элементы, которые больше предыдущего и возвращает их в виде списка."
   ]
  },
  {
   "cell_type": "code",
   "execution_count": 3,
   "id": "f39165b1",
   "metadata": {},
   "outputs": [],
   "source": [
    "def LB(list2):\n",
    "    a0=[]    \n",
    "    for i in range(0, len(list2)-1):\n",
    "        if list2[i+1] > list2 [i]:\n",
    "            a0.append(list2[i+1])\n",
    "    return a0"
   ]
  },
  {
   "cell_type": "code",
   "execution_count": 4,
   "id": "76c4f8ff",
   "metadata": {},
   "outputs": [
    {
     "data": {
      "text/plain": [
       "[6, 6, 8, 11]"
      ]
     },
     "execution_count": 4,
     "metadata": {},
     "output_type": "execute_result"
    }
   ],
   "source": [
    "a = [10, 2, 6, 5, 6, 8, 11, 4, 0]\n",
    "LB(a)"
   ]
  },
  {
   "cell_type": "markdown",
   "id": "17e39959",
   "metadata": {},
   "source": [
    "# Задание 3"
   ]
  },
  {
   "cell_type": "markdown",
   "id": "4b24650b",
   "metadata": {},
   "source": [
    "Допишите функцию, которая принимает список, меняет местами наибольший и наименьший элементы и возвращает этот список."
   ]
  },
  {
   "cell_type": "code",
   "execution_count": 8,
   "id": "29ad827e",
   "metadata": {},
   "outputs": [],
   "source": [
    "def LBB(list1):\n",
    "    mn=min(list1)\n",
    "    mx=max(list1)\n",
    "    list2=[]\n",
    "    for i in list1:\n",
    "        if i==mn:\n",
    "            list2.append(mx)\n",
    "        elif i==mx:\n",
    "            list2.append(mn)\n",
    "        else :\n",
    "            list2.append(i)\n",
    "    return list2"
   ]
  },
  {
   "cell_type": "code",
   "execution_count": 9,
   "id": "d480d34a",
   "metadata": {},
   "outputs": [
    {
     "data": {
      "text/plain": [
       "[10, 2, 6, 5, 6, 8, 0, 4, 11]"
      ]
     },
     "execution_count": 9,
     "metadata": {},
     "output_type": "execute_result"
    }
   ],
   "source": [
    "a = [10, 2, 6, 5, 6, 8, 11, 4, 0]\n",
    "LBB(a)"
   ]
  }
 ],
 "metadata": {
  "kernelspec": {
   "display_name": "Python 3 (ipykernel)",
   "language": "python",
   "name": "python3"
  },
  "language_info": {
   "codemirror_mode": {
    "name": "ipython",
    "version": 3
   },
   "file_extension": ".py",
   "mimetype": "text/x-python",
   "name": "python",
   "nbconvert_exporter": "python",
   "pygments_lexer": "ipython3",
   "version": "3.8.12"
  }
 },
 "nbformat": 4,
 "nbformat_minor": 5
}
