{
 "cells": [
  {
   "cell_type": "markdown",
   "id": "96a6e33e",
   "metadata": {},
   "source": [
    "# Самостоятельная работа #2 "
   ]
  },
  {
   "cell_type": "markdown",
   "id": "d6f2ead7",
   "metadata": {},
   "source": [
    "Задание 1\n",
    "\n",
    "Допишите функцию, которая принимает 2 числа, сравнивает между собой и возвращает наименьшее."
   ]
  },
  {
   "cell_type": "code",
   "execution_count": 1,
   "id": "27cc2825",
   "metadata": {},
   "outputs": [],
   "source": [
    "def min2(a, b):\n",
    "     return min([a,b])"
   ]
  },
  {
   "cell_type": "code",
   "execution_count": 2,
   "id": "c06424ca",
   "metadata": {},
   "outputs": [
    {
     "data": {
      "text/plain": [
       "6"
      ]
     },
     "execution_count": 2,
     "metadata": {},
     "output_type": "execute_result"
    }
   ],
   "source": [
    "a=8\n",
    "b=6\n",
    "min2(a,b)"
   ]
  },
  {
   "cell_type": "markdown",
   "id": "6cd80fe0",
   "metadata": {},
   "source": [
    "Задание 2\n",
    "\n",
    "Допишите функцию, которая принимает 3 числа, сравнивает между собой и возвращает наименьшее.\n"
   ]
  },
  {
   "cell_type": "code",
   "execution_count": 3,
   "id": "5d5c0099",
   "metadata": {},
   "outputs": [],
   "source": [
    "def min3(a,b,c):\n",
    "    return min(a,b,c)"
   ]
  },
  {
   "cell_type": "code",
   "execution_count": 4,
   "id": "c87fe8f0",
   "metadata": {},
   "outputs": [
    {
     "data": {
      "text/plain": [
       "0"
      ]
     },
     "execution_count": 4,
     "metadata": {},
     "output_type": "execute_result"
    }
   ],
   "source": [
    "a=8\n",
    "b=6\n",
    "c=0\n",
    "min3 (a,b,c)"
   ]
  },
  {
   "cell_type": "markdown",
   "id": "fcd59907",
   "metadata": {},
   "source": [
    "Задание 2\n",
    "\n",
    "Допишите функцию, которая принимает 3 числа, сравнивает между собой и возвращает количество совпадающих чисел. Соответственно, программа может возвращать одно из трех чисел: 3 - если совпадают все, 2 - если совпадают 2 числа, 0 - если все числа различны."
   ]
  },
  {
   "cell_type": "code",
   "execution_count": 5,
   "id": "d660e62a",
   "metadata": {},
   "outputs": [],
   "source": [
    "def sr(a, b, c):\n",
    "    z=len(set([a,b,c]))\n",
    "    if z == 3: z+=1\n",
    "    return 4-z"
   ]
  },
  {
   "cell_type": "code",
   "execution_count": 6,
   "id": "b9755140",
   "metadata": {},
   "outputs": [
    {
     "data": {
      "text/plain": [
       "0"
      ]
     },
     "execution_count": 6,
     "metadata": {},
     "output_type": "execute_result"
    }
   ],
   "source": [
    "a=1\n",
    "b=2\n",
    "c=6\n",
    "sr(a,b,c)"
   ]
  }
 ],
 "metadata": {
  "kernelspec": {
   "display_name": "Python 3 (ipykernel)",
   "language": "python",
   "name": "python3"
  },
  "language_info": {
   "codemirror_mode": {
    "name": "ipython",
    "version": 3
   },
   "file_extension": ".py",
   "mimetype": "text/x-python",
   "name": "python",
   "nbconvert_exporter": "python",
   "pygments_lexer": "ipython3",
   "version": "3.8.12"
  }
 },
 "nbformat": 4,
 "nbformat_minor": 5
}
